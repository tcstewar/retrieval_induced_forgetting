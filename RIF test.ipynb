{
 "cells": [
  {
   "cell_type": "code",
   "execution_count": 1,
   "metadata": {
    "collapsed": false
   },
   "outputs": [
    {
     "name": "stderr",
     "output_type": "stream",
     "text": [
      ":0: FutureWarning: IPython widgets are experimental and may change in the future.\n"
     ]
    }
   ],
   "source": [
    "import numpy as np\n",
    "%matplotlib inline\n",
    "import pylab\n",
    "import seaborn\n",
    "import nengo\n",
    "import nengo.spa as spa\n"
   ]
  },
  {
   "cell_type": "code",
   "execution_count": 77,
   "metadata": {
    "collapsed": true
   },
   "outputs": [],
   "source": [
    "class RIFModel(object):\n",
    "    def __init__(self, mapping, D_category=16, D_items=64, threshold=0.4, learning_rate=1e-4):\n",
    "        model = spa.SPA()\n",
    "        self.model = model\n",
    "        self.mapping = mapping\n",
    "        self.vocab_category = spa.Vocabulary(D_category)\n",
    "        self.vocab_items = spa.Vocabulary(D_items)\n",
    "        for k in mapping.keys():\n",
    "            self.vocab_category.parse(k)\n",
    "            for v in mapping[k]:\n",
    "                self.vocab_items.parse(v)\n",
    "        \n",
    "        with model:\n",
    "            model.category = spa.State(D_category, vocab=self.vocab_category)\n",
    "            \n",
    "            model.items = spa.State(D_items)\n",
    "\n",
    "            def learned(x):\n",
    "                cats = np.dot(self.vocab_category.vectors, x)\n",
    "                best_index = np.argmax(cats)\n",
    "                if cats[best_index] < threshold:\n",
    "                    return self.vocab_items.parse('0').v\n",
    "                else:\n",
    "                    k = self.vocab_category.keys[best_index]\n",
    "                    total = '+'.join(self.mapping[k])\n",
    "                    return self.vocab_items.parse(total).v\n",
    "\n",
    "            c = nengo.Connection(model.category.all_ensembles[0], model.items.input, \n",
    "                             function=learned, learning_rule_type=nengo.PES(learning_rate=learning_rate))\n",
    "\n",
    "            \n",
    "            model.error = spa.State(D_items)\n",
    "            nengo.Connection(model.items.output, model.error.input)\n",
    "            nengo.Connection(model.error.output, c.learning_rule)\n",
    "            \n",
    "            \n",
    "            self.stim_category_value = np.zeros(D_category)\n",
    "            self.stim_category = nengo.Node(self.stim_category)\n",
    "            nengo.Connection(self.stim_category, model.category.input, synapse=None)\n",
    "\n",
    "            self.stim_correct_value = np.zeros(D_items)\n",
    "            self.stim_correct = nengo.Node(self.stim_correct)\n",
    "            nengo.Connection(self.stim_correct, model.error.input, synapse=None, transform=-1)\n",
    "\n",
    "            self.stim_stoplearn_value = np.zeros(1)\n",
    "            self.stim_stoplearn = nengo.Node(self.stim_stoplearn)\n",
    "            for ens in model.error.all_ensembles:\n",
    "                nengo.Connection(self.stim_stoplearn, ens.neurons, synapse=None, transform=-10*np.ones((ens.n_neurons, 1)))\n",
    "            \n",
    "            \n",
    "            \n",
    "            self.probe_items = nengo.Probe(model.items.output, synapse=0.01)\n",
    "            \n",
    "        self.sim = nengo.Simulator(self.model)\n",
    "        \n",
    "    def stim_category(self, t):\n",
    "        return self.stim_category_value\n",
    "\n",
    "    def stim_correct(self, t):\n",
    "        return self.stim_correct_value\n",
    "    \n",
    "    def stim_stoplearn(self, t):\n",
    "        return self.stim_stoplearn_value\n",
    "    \n",
    "    \n",
    "    def test(self, category, T=0.5):\n",
    "        self.stim_stoplearn_value = 1\n",
    "        self.stim_category_value = self.vocab_category.parse(category).v\n",
    "        self.stim_correct_value = self.vocab_items.parse('0').v\n",
    "        self.sim.run(T)\n",
    "        d = self.sim.data[self.probe_items]\n",
    "        #self.sim.data[self.probe_items]\n",
    "        \n",
    "        return np.dot(self.vocab_items.vectors, d[-1])\n",
    "    \n",
    "    def practice(self, category, item, T=0.5):\n",
    "        self.stim_stoplearn_value = 0\n",
    "        self.stim_category_value = self.vocab_category.parse(category).v\n",
    "        self.stim_correct_value = self.vocab_items.parse(item).v\n",
    "        self.sim.run(T)\n",
    "        \n",
    "        \n",
    "        \n",
    "        \n",
    "        \n",
    "        \n",
    "        \n",
    "        "
   ]
  },
  {
   "cell_type": "code",
   "execution_count": 78,
   "metadata": {
    "collapsed": false
   },
   "outputs": [],
   "source": [
    "mapping = {\n",
    "    'ANIMAL': ['DOG', 'CAT', 'RAT'],\n",
    "    'COLOR': ['RED', 'BLUE', 'GREEN'],\n",
    "}\n",
    "\n",
    "m = RIFModel(mapping, learning_rate=1e-5)"
   ]
  },
  {
   "cell_type": "code",
   "execution_count": 79,
   "metadata": {
    "collapsed": false
   },
   "outputs": [
    {
     "name": "stdout",
     "output_type": "stream",
     "text": [
      "['RED', 'BLUE', 'GREEN', 'DOG', 'CAT', 'RAT']\n"
     ]
    }
   ],
   "source": [
    "print m.vocab_items.keys"
   ]
  },
  {
   "cell_type": "code",
   "execution_count": 80,
   "metadata": {
    "collapsed": false
   },
   "outputs": [
    {
     "name": "stdout",
     "output_type": "stream",
     "text": [
      "Simulation finished in 0:00:02.                                                 \n"
     ]
    },
    {
     "data": {
      "text/plain": [
       "array([ 0.99992329,  1.00532139,  0.97266045, -0.03696156, -0.57618808,\n",
       "       -0.07140686])"
      ]
     },
     "execution_count": 80,
     "metadata": {},
     "output_type": "execute_result"
    }
   ],
   "source": [
    "m.test('COLOR')"
   ]
  },
  {
   "cell_type": "code",
   "execution_count": 81,
   "metadata": {
    "collapsed": false
   },
   "outputs": [
    {
     "name": "stdout",
     "output_type": "stream",
     "text": [
      "Simulation finished in 0:00:02.                                                 \n"
     ]
    },
    {
     "data": {
      "text/plain": [
       "array([-0.2985458 , -0.10978881, -0.22965498,  0.69084005,  0.78006378,\n",
       "        0.73885816])"
      ]
     },
     "execution_count": 81,
     "metadata": {},
     "output_type": "execute_result"
    }
   ],
   "source": [
    "m.test('ANIMAL')"
   ]
  },
  {
   "cell_type": "code",
   "execution_count": 82,
   "metadata": {
    "collapsed": false
   },
   "outputs": [
    {
     "name": "stdout",
     "output_type": "stream",
     "text": [
      "Simulation finished in 0:00:02.                                                 \n"
     ]
    }
   ],
   "source": [
    "m.practice('COLOR', 'RED')"
   ]
  },
  {
   "cell_type": "code",
   "execution_count": 84,
   "metadata": {
    "collapsed": false
   },
   "outputs": [
    {
     "name": "stdout",
     "output_type": "stream",
     "text": [
      "Simulation finished in 0:00:02.                                                 \n"
     ]
    }
   ],
   "source": [
    "m.practice('COLOR', 'BLUE')"
   ]
  },
  {
   "cell_type": "code",
   "execution_count": 85,
   "metadata": {
    "collapsed": false
   },
   "outputs": [
    {
     "name": "stdout",
     "output_type": "stream",
     "text": [
      "Simulation finished in 0:00:03.                                                 \n"
     ]
    },
    {
     "data": {
      "text/plain": [
       "array([ 0.94128963,  0.97134279,  0.88818391, -0.0059253 , -0.54358464,\n",
       "       -0.06306801])"
      ]
     },
     "execution_count": 85,
     "metadata": {},
     "output_type": "execute_result"
    }
   ],
   "source": [
    "m.test('COLOR')\n"
   ]
  },
  {
   "cell_type": "code",
   "execution_count": 74,
   "metadata": {
    "collapsed": false
   },
   "outputs": [
    {
     "name": "stdout",
     "output_type": "stream",
     "text": [
      "Simulation finished in 0:00:02.                                                 \n"
     ]
    },
    {
     "data": {
      "text/plain": [
       "array([ 0.08751561, -0.34436001, -0.26907267,  0.6062511 ,  0.5593552 ,\n",
       "        0.57091676])"
      ]
     },
     "execution_count": 74,
     "metadata": {},
     "output_type": "execute_result"
    }
   ],
   "source": [
    "m.test('ANIMAL')"
   ]
  },
  {
   "cell_type": "code",
   "execution_count": null,
   "metadata": {
    "collapsed": true
   },
   "outputs": [],
   "source": []
  }
 ],
 "metadata": {
  "kernelspec": {
   "display_name": "Python 2",
   "language": "python",
   "name": "python2"
  },
  "language_info": {
   "codemirror_mode": {
    "name": "ipython",
    "version": 2
   },
   "file_extension": ".py",
   "mimetype": "text/x-python",
   "name": "python",
   "nbconvert_exporter": "python",
   "pygments_lexer": "ipython2",
   "version": "2.7.5"
  }
 },
 "nbformat": 4,
 "nbformat_minor": 0
}
